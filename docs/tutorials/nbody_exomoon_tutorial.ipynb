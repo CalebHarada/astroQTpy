{
 "cells": [
  {
   "cell_type": "markdown",
   "metadata": {},
   "source": [
    "# N-Body Exomoon Stability Map Tutorial"
   ]
  },
  {
   "cell_type": "markdown",
   "metadata": {},
   "source": [
    "In this tutorial, we'll go over a slightly more advanced application of the `NbodyQuadTree` class in ``astroQTpy``. Here we'll investigate the stability of a hypothetical moon orbiting a long-period massive planet as a function of the moon's semi-major axis $a_{moon}$ and the planet's eccentricity $e_{planet}$.\n",
    "\n",
    "First, we need to define what we mean by \"stable.\" Gravitational perturbations from the host star and planet over many orbits can culminate in the moon escaping the graviational influence of the planet, defined by the planet's Hill sphere. Once the moon has escaped the Hill sphere, we can no longer consider it a moon, thus we would consider the system unstable. While the Hill sphere defines the outer limit of the moon's orbital stability, we can define the *inner* stability limit at the radius of the planet (i.e., the system is unstable if the moon collides with the planet). Note we could also consider the Roche limit here, the distance at which tidal forces between the moon and planet would destroy the moon. However, calculating the Roche limit requires making assumptions about the interiors of the moon and planet, and typically works out to be on the order of a few planetary radii. Therefore, the keep things simple we'll just assume the inner limit is the planet's radius.\n",
    "\n",
    "Let's define a function to determine the Hill radius for a given system. The Hill radius is defined as:\n",
    "\n",
    "$$ r_{Hill} = a_{planet} \\bigg(\\frac{m_*}{3 m_{planet}}\\bigg)^{1/3} $$\n",
    "\n",
    "where $a_{planet}$ and $m_{planet}$ denote the semi-major axis and mass of the planet and $m_*$ is the mass of the host star."
   ]
  },
  {
   "cell_type": "code",
   "execution_count": 1,
   "metadata": {},
   "outputs": [],
   "source": [
    "def calc_hill_radius(mass_primary, mass_secondary, sma_secondary):\n",
    "    \n",
    "    return sma_secondary * (mass_primary / (3 * mass_secondary))**(1./3)"
   ]
  },
  {
   "cell_type": "markdown",
   "metadata": {},
   "source": [
    "In this tutorial we'll consider a real exoplanet system, modeling the central star and outermost giant planet in the HIP 41378 system (following [Harada et al. 2023](https://ui.adsabs.harvard.edu/abs/2023arXiv230314294H/abstract)). The following system parameters were derived by [Santerne et al. 2019](https://ui.adsabs.harvard.edu/abs/2019arXiv191107355S/abstract)."
   ]
  },
  {
   "cell_type": "code",
   "execution_count": 2,
   "metadata": {},
   "outputs": [],
   "source": [
    "from astropy import constants\n",
    "\n",
    "# HIP 41378\n",
    "M_star = 1.16 * constants.M_sun.value\n",
    "a_star = 1.37 * constants.au.value\n",
    "\n",
    "# HIP 41378 f\n",
    "M_planet = 12 * constants.M_earth.value\n",
    "R_planet = 9.2 * constants.R_earth.value"
   ]
  },
  {
   "cell_type": "markdown",
   "metadata": {},
   "source": [
    "Now let's make up a moon to put in orbit around the planet. As a plausible upper limit, we'll go with a moon with the same satellite-to-planet mass ratio as the Moon-Earth system ($m_{Moon} / m_{Earth} \\approx 0.0123$). This gives us a moon about 15% as massive as the Earth."
   ]
  },
  {
   "cell_type": "code",
   "execution_count": 3,
   "metadata": {},
   "outputs": [
    {
     "name": "stdout",
     "output_type": "stream",
     "text": [
      "M_moon: 0.148 Earth masses\n"
     ]
    }
   ],
   "source": [
    "import numpy as np\n",
    "\n",
    "# hypothetical moon\n",
    "M_moon = 0.0123 * M_planet   # Moon-Earth mass ratio\n",
    "print(\"M_moon: {:.3f} Earth masses\".format(M_moon / constants.M_earth.value))"
   ]
  },
  {
   "cell_type": "markdown",
   "metadata": {},
   "source": [
    "Now we just need the inner and outer stability limits before we can proceed. In units of AU, we have:"
   ]
  },
  {
   "cell_type": "code",
   "execution_count": 4,
   "metadata": {},
   "outputs": [
    {
     "name": "stdout",
     "output_type": "stream",
     "text": [
      "Hill radius: 0.030 AU\n",
      "Planet radius: 0.00039 AU\n"
     ]
    }
   ],
   "source": [
    "hill_radius = calc_hill_radius(M_planet, M_star, a_star)   # mks\n",
    "print(\"Hill radius: {:.3f} AU\".format(hill_radius / constants.au.value))\n",
    "print(\"Planet radius: {:.5f} AU\".format(R_planet / constants.au.value))"
   ]
  },
  {
   "cell_type": "markdown",
   "metadata": {},
   "source": [
    "We're now ready to proceed as we did in the more simple N-body tutorial. We'll define a function that returns the outcome of an N-body simulation, create an instance of `NbodyQuadTree` in ``astrQTpy``, then run the quadtree. Since this type of hierarchical N-body model is more computationally expensive (because the moon's orbital timescale is much smaller than that of the planet), we'll take advantage of ``astrQTpy``'s multiprocessing capabilities. Note that in order to get this to work in a Python notebook, we must define this function externally, then import it. We've written the function `exomoon_simulation` in a separate Python file (`nbody_sim_functions.py`), but it is copied below so that you can see what's going under the hood."
   ]
  },
  {
   "cell_type": "code",
   "execution_count": 5,
   "metadata": {},
   "outputs": [],
   "source": [
    "from nbody_sim_functions import exomoon_simulation"
   ]
  },
  {
   "cell_type": "markdown",
   "metadata": {},
   "source": [
    "Our function looks like this:\n",
    "\n",
    "```python\n",
    "\n",
    "    import numpy as np\n",
    "    import rebound\n",
    "    import astropy.constants as constants\n",
    "\n",
    "\n",
    "    def exomoon_simulation(params):\n",
    "        \"\"\"Run a hierarchical N-body simulation with one planet and one moon around the planet. \n",
    "        \n",
    "        Args:\n",
    "            params (tuple): eccentricity of planet and semi-major axis of moon (in fraction of Hill Radius)\n",
    "        \n",
    "        \"\"\"\n",
    "        \n",
    "        # unpack params\n",
    "        ecc_planet, a_moon = params\n",
    "        \n",
    "        # constants\n",
    "        MEARTH_TO_MSUN = constants.M_earth.value / constants.M_sun.value\n",
    "        DAY_TO_YEAR = 1. / 365.25\n",
    "        MIN_DIST = 0.00039   # AU (planet radius)\n",
    "        MAX_DIST = 0.030     # AU (Hill radius)\n",
    "        \n",
    "        # fixed params\n",
    "        m_star = 1.16                                   # stellar mass\n",
    "        mass_moon = 0.148 * MEARTH_TO_MSUN              # moon mass \n",
    "        mass_planet = 12. * MEARTH_TO_MSUN              # planet mass\n",
    "        period_planet = 542.08 * DAY_TO_YEAR * 2*np.pi  # planet orbital period\n",
    "        \n",
    "        # hyperparams\n",
    "        sim_time = 1e2  # run for 100 years\n",
    "        N_outputs = 50\n",
    "        \n",
    "        # random mean anomaly for moon\n",
    "        ma_moon = np.random.uniform(0, 2*np.pi)\n",
    "        \n",
    "        # set up simulation\n",
    "        sim = rebound.Simulation()\n",
    "        sim.integrator = \"ias15\"\n",
    "        \n",
    "        sim.add(m=m_star, hash=\"star\")  # add star\n",
    "        sim.add(m=mass_planet, P=period_planet, e=ecc_planet, M=0., inc=np.pi/2, hash=\"planet\")  # add planet around star\n",
    "        sim.add(m=mass_moon, a=a_moon*MAX_DIST, e=0., M=ma_moon, inc=np.pi/2,\n",
    "                primary=sim.particles[-1], hash=\"moon\")  # add moon around planet\n",
    "        \n",
    "        sim.dt = 0.05 * sim.particles[-1].P  # first timestep is 5% of moon's orbital period\n",
    "        sim.move_to_com()\n",
    "        \n",
    "        sim.exit_min_distance = MIN_DIST  # catch encounters\n",
    "\n",
    "        # run simulation\n",
    "        timescale = sim_time * (2 * np.pi)  # units where G=1\n",
    "        ps = sim.particles  # an array of pointers that will update as the simulation runs\n",
    "        times = np.linspace(0, timescale, N_outputs)\n",
    "\n",
    "        try:\n",
    "            for time in times:\n",
    "                sim.integrate(time)\n",
    "                dp_moon = ps[\"planet\"] - ps[\"moon\"]  # calculate the component-wise difference between moon and planet\n",
    "                dist_sq_moon = dp_moon.x*dp_moon.x + dp_moon.y*dp_moon.y + dp_moon.z*dp_moon.z\n",
    "                if dist_sq_moon > MAX_DIST**2:\n",
    "                    return 0.  # moon escaped Hill sphere: unstable\n",
    "                \n",
    "        except rebound.Encounter:\n",
    "            return 0.  # close encounter: unstable\n",
    "        \n",
    "        return 1.  # stable\n",
    "```"
   ]
  },
  {
   "cell_type": "markdown",
   "metadata": {},
   "source": [
    "This function takes as input a tuple array of $(e_{planet}, a_{moon})$ and returns either a zero or one depending on the outcome of the simulation. If the moon escapes the planet's Hill sphere or a collision occurs, a 0 is returned. Otherwise a 1 is returned."
   ]
  },
  {
   "cell_type": "markdown",
   "metadata": {},
   "source": [
    "Let's test it out!"
   ]
  },
  {
   "cell_type": "code",
   "execution_count": 6,
   "metadata": {},
   "outputs": [
    {
     "data": {
      "text/plain": [
       "0.0"
      ]
     },
     "execution_count": 6,
     "metadata": {},
     "output_type": "execute_result"
    }
   ],
   "source": [
    "exomoon_simulation((0.3, 0.4))"
   ]
  },
  {
   "cell_type": "markdown",
   "metadata": {},
   "source": [
    "The return value of 0 indicates that the initial conditions (0.3, 0.4) result in an unstable moon orbit.\n",
    "\n",
    "Now let's use a quadtree to explore a range of parameters! As in other tutorials, we need to define the range of $e$ and $a$ that we wish to explore, then create a new instance of `NbodyQuadTree`."
   ]
  },
  {
   "cell_type": "code",
   "execution_count": 7,
   "metadata": {},
   "outputs": [],
   "source": [
    "x_min, x_max = 0, 0.5      # planet eccentricity\n",
    "y_min, y_max = 0.25, 0.55  # moon semi-major axis (in Hill radii)"
   ]
  },
  {
   "cell_type": "code",
   "execution_count": 8,
   "metadata": {},
   "outputs": [],
   "source": [
    "import astroqtpy.quadtree as qt\n",
    "\n",
    "nbody_tree = qt.NbodyQuadTree(x_min, x_max, y_min, y_max, exomoon_simulation,\n",
    "                              split_threshold=0.2,\n",
    "                              N_points=12,\n",
    "                              N_proc=4,\n",
    "                              filename_points = './tutorial_outputs/nbody_moon_points.txt',\n",
    "                              filename_nodes = './tutorial_outputs/nbody_moon_nodes.txt'\n",
    "                              )"
   ]
  },
  {
   "cell_type": "markdown",
   "metadata": {},
   "source": [
    "Let's run it!"
   ]
  },
  {
   "cell_type": "code",
   "execution_count": 9,
   "metadata": {},
   "outputs": [
    {
     "name": "stdout",
     "output_type": "stream",
     "text": [
      "Attempting to load previous results...\n",
      "   No previous results found, starting new...\n",
      "DONE! :)\n"
     ]
    }
   ],
   "source": [
    "nbody_tree.run_quadtree()"
   ]
  },
  {
   "cell_type": "markdown",
   "metadata": {},
   "source": [
    "This took about 9 minutes to run on my laptop."
   ]
  },
  {
   "cell_type": "markdown",
   "metadata": {},
   "source": [
    "Now let's plot the quadtree map!"
   ]
  },
  {
   "cell_type": "code",
   "execution_count": 10,
   "metadata": {},
   "outputs": [
    {
     "data": {
      "image/png": "[encoded data removed]",
      "text/plain": [
       "<Figure size 640x480 with 2 Axes>"
      ]
     },
     "metadata": {},
     "output_type": "display_data"
    }
   ],
   "source": [
    "import matplotlib.pyplot as plt\n",
    "\n",
    "fig, ax = plt.subplots()\n",
    "\n",
    "ax.set_xlabel('Planet eccentricity $e_{planet}$')\n",
    "ax.set_ylabel('Moon semi-major axis $a_{moon}$ (Hill radii)')\n",
    "ax.set_xlim(x_min, x_max)\n",
    "ax.set_ylim(y_min, y_max)\n",
    "\n",
    "cm = nbody_tree.draw_tree(ax, vmin=0, vmax=1, cmap='RdYlBu')\n",
    "plt.colorbar(cm, ax=ax, label='$f_{stab}$')\n",
    "\n",
    "plt.show(); "
   ]
  }
 ],
 "metadata": {
  "kernelspec": {
   "display_name": "qtpy-env",
   "language": "python",
   "name": "python3"
  },
  "language_info": {
   "codemirror_mode": {
    "name": "ipython",
    "version": 3
   },
   "file_extension": ".py",
   "mimetype": "text/x-python",
   "name": "python",
   "nbconvert_exporter": "python",
   "pygments_lexer": "ipython3",
   "version": "3.11.4"
  },
  "orig_nbformat": 4
 },
 "nbformat": 4,
 "nbformat_minor": 2
}
