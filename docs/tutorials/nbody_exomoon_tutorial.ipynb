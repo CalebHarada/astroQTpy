{
 "cells": [
  {
   "cell_type": "markdown",
   "metadata": {},
   "source": [
    "# Exomoon N-body Stability Map"
   ]
  },
  {
   "cell_type": "markdown",
   "metadata": {},
   "source": [
    "blah blah\n"
   ]
  },
  {
   "cell_type": "code",
   "execution_count": 8,
   "metadata": {},
   "outputs": [],
   "source": [
    "def calc_hill_radius(mass_primary, mass_secondary, sma_secondary):\n",
    "    return sma_secondary * (mass_primary / (3 * mass_secondary))**(1./3)"
   ]
  },
  {
   "cell_type": "markdown",
   "metadata": {},
   "source": [
    "HIP 41378 system (Santerne et al. 2019)"
   ]
  },
  {
   "cell_type": "code",
   "execution_count": 12,
   "metadata": {},
   "outputs": [],
   "source": [
    "from astropy import constants\n",
    "\n",
    "# HIP 41378\n",
    "M_star = 1.16 * constants.M_sun.value\n",
    "a_star = 1.37 * constants.au.value\n",
    "\n",
    "# HIP 41378f\n",
    "M_planet = 12 * constants.M_earth.value\n",
    "R_planet = 9.2 * constants.R_earth.value"
   ]
  },
  {
   "cell_type": "markdown",
   "metadata": {},
   "source": [
    "Make up a moon"
   ]
  },
  {
   "cell_type": "code",
   "execution_count": 36,
   "metadata": {},
   "outputs": [
    {
     "name": "stdout",
     "output_type": "stream",
     "text": [
      "R_moon: 0.528 Earth radii \n",
      " M_moon: 0.148 Earth masses\n"
     ]
    }
   ],
   "source": [
    "import numpy as np\n",
    "\n",
    "# hypothetical moon\n",
    "M_moon = 0.0123 * M_planet   # Moon-Earth mass ratio\n",
    "R_moon = ((3/(4*np.pi)) * M_moon / 5500 )**(1/3)   # Assumes desnity of Earth\n",
    "\n",
    "print(\"R_moon: {:.3f} Earth radii \\n\".format(R_moon / constants.R_earth.value),\n",
    "      \"M_moon: {:.3f} Earth masses\".format(M_moon / constants.M_earth.value))"
   ]
  },
  {
   "cell_type": "code",
   "execution_count": 42,
   "metadata": {},
   "outputs": [
    {
     "name": "stdout",
     "output_type": "stream",
     "text": [
      "Hill radius: 0.030 AU\n"
     ]
    }
   ],
   "source": [
    "hill_radius = calc_hill_radius(M_planet, M_star, a_star)   # mks\n",
    "print(\"Hill radius: {:.3f} AU\".format(hill_radius / constants.au.value))"
   ]
  },
  {
   "cell_type": "code",
   "execution_count": 40,
   "metadata": {},
   "outputs": [
    {
     "name": "stdout",
     "output_type": "stream",
     "text": [
      "Planet radius: 0.00039 AU\n"
     ]
    }
   ],
   "source": [
    "print(\"Planet radius: {:.5f} AU\".format(R_planet / constants.au.value))"
   ]
  },
  {
   "cell_type": "code",
   "execution_count": null,
   "metadata": {},
   "outputs": [],
   "source": []
  },
  {
   "cell_type": "markdown",
   "metadata": {},
   "source": [
    "Our function looks like this:\n",
    "\n",
    "```python\n",
    "\n",
    "    import numpy as np\n",
    "    import rebound\n",
    "    import astropy.constants as constants\n",
    "\n",
    "\n",
    "    def exomoon_simulation(params):\n",
    "        \"\"\"Run a hierarchical N-body simulation with one planet and one moon around the planet. \n",
    "        \n",
    "        Args:\n",
    "            params (tuple): eccentricity of planet and semi-major axis of moon (in fraction of Hill Radius)\n",
    "        \n",
    "        \"\"\"\n",
    "        \n",
    "        # unpack params\n",
    "        ecc_planet, a_moon = params\n",
    "        \n",
    "        # constants\n",
    "        MEARTH_TO_MSUN = constants.M_earth.value / constants.M_sun.value\n",
    "        DAY_TO_YEAR = 1. / 365.25\n",
    "        MIN_DIST = 0.00039   # AU (planet radius)\n",
    "        MAX_DIST = 0.030     # AU (Hill radius)\n",
    "        \n",
    "        # fixed params\n",
    "        m_star = 1.16                                   # stellar mass\n",
    "        mass_moon = 0.148 * MEARTH_TO_MSUN              # moon mass \n",
    "        mass_planet = 12. * MEARTH_TO_MSUN              # planet mass\n",
    "        period_planet = 542.08 * DAY_TO_YEAR * 2*np.pi  # planet orbital period\n",
    "        \n",
    "        # hyperparams\n",
    "        sim_time = 1000  # run for 1000 years\n",
    "        N_outputs = 1000\n",
    "        \n",
    "        # random mean anomaly for moon\n",
    "        ma_moon = np.random.uniform(0, 2*np.pi)\n",
    "        \n",
    "        # set up simulation\n",
    "        sim = rebound.Simulation()\n",
    "        sim.integrator = \"ias15\"\n",
    "        \n",
    "        sim.add(m=m_star, hash=\"star\")  # add star\n",
    "        sim.add(m=mass_planet, P=period_planet, e=ecc_planet, M=0., inc=np.pi/2, hash=\"planet\")  # add planet around star\n",
    "        sim.add(m=mass_moon, a=a_moon*MAX_DIST, e=0., M=ma_moon, inc=np.pi/2,\n",
    "                primary=sim.particles[-1], hash=\"moon\")  # add moon around planet\n",
    "        \n",
    "        sim.dt = 0.05 * sim.particles[-1].P  # first timestep is 5% of moon's orbital period\n",
    "        sim.move_to_com()\n",
    "        \n",
    "        sim.exit_min_distance = MIN_DIST  # catch encounters\n",
    "\n",
    "        # run simulation\n",
    "        timescale = sim_time * (2 * np.pi)  # units where G=1\n",
    "        ps = sim.particles  # an array of pointers that will update as the simulation runs\n",
    "        times = np.linspace(0, timescale, N_outputs)\n",
    "\n",
    "        try:\n",
    "            for time in times:\n",
    "                sim.integrate(time)\n",
    "                dp_moon = ps[\"planet\"] - ps[\"moon\"]  # calculate the component-wise difference between moon and planet\n",
    "                dist_sq_moon = dp_moon.x*dp_moon.x + dp_moon.y*dp_moon.y + dp_moon.z*dp_moon.z\n",
    "                if dist_sq_moon > MAX_DIST**2:\n",
    "                    return 0.  # moon escaped Hill sphere: unstable\n",
    "                \n",
    "        except rebound.Encounter:\n",
    "            return 0.  # close encounter: unstable\n",
    "        \n",
    "        return 1.  # stable\n",
    "```"
   ]
  },
  {
   "cell_type": "code",
   "execution_count": 1,
   "metadata": {},
   "outputs": [],
   "source": [
    "from nbody_sim_functions import exomoon_simulation"
   ]
  },
  {
   "cell_type": "code",
   "execution_count": 2,
   "metadata": {},
   "outputs": [
    {
     "data": {
      "text/plain": [
       "0.0"
      ]
     },
     "execution_count": 2,
     "metadata": {},
     "output_type": "execute_result"
    }
   ],
   "source": [
    "exomoon_simulation((0.3, 0.4))"
   ]
  },
  {
   "cell_type": "code",
   "execution_count": 3,
   "metadata": {},
   "outputs": [],
   "source": [
    "x_min, x_max = 0, 0.5      # planet eccentricity\n",
    "y_min, y_max = 0.25, 0.55  # moon semi-major axis (in Hill radii)"
   ]
  },
  {
   "cell_type": "code",
   "execution_count": 5,
   "metadata": {},
   "outputs": [],
   "source": [
    "import astroqtpy.quadtree as qt"
   ]
  },
  {
   "cell_type": "code",
   "execution_count": 6,
   "metadata": {},
   "outputs": [],
   "source": [
    "nbody_tree = qt.NbodyQuadTree(x_min, x_max, y_min, y_max, exomoon_simulation,\n",
    "                              split_threshold=0.2,\n",
    "                              N_points=20,\n",
    "                              N_proc=4,\n",
    "                              verbose=True\n",
    "                              )"
   ]
  },
  {
   "cell_type": "code",
   "execution_count": null,
   "metadata": {},
   "outputs": [],
   "source": [
    "import matplotlib.pyplot as plt\n",
    "\n",
    "fig, ax = plt.subplots()\n",
    "\n",
    "cm = nbody_tree.draw_tree(ax, vmin=0, vmax=1, show_points)\n",
    "plt.colorbar(cm, ax=ax, label='$f_{stab}$')\n",
    "\n",
    "plt.show(); "
   ]
  }
 ],
 "metadata": {
  "kernelspec": {
   "display_name": "qtpy-env",
   "language": "python",
   "name": "python3"
  },
  "language_info": {
   "codemirror_mode": {
    "name": "ipython",
    "version": 3
   },
   "file_extension": ".py",
   "mimetype": "text/x-python",
   "name": "python",
   "nbconvert_exporter": "python",
   "pygments_lexer": "ipython3",
   "version": "3.11.4"
  },
  "orig_nbformat": 4
 },
 "nbformat": 4,
 "nbformat_minor": 2
}
