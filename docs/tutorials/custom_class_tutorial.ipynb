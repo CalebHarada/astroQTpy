{
 "cells": [
  {
   "cell_type": "markdown",
   "metadata": {},
   "source": [
    "# Custom Quadtree Tutorial\n",
    "\n",
    "``astroQTpy`` is designed to be flexible so that you can define your own quadtree class. We'll take a closer look in this tutorial at how you can do this using ``astroQTpy``'s `BaseTree` abstract class.\n",
    "\n",
    "First, you'll need to import each of the base components of ``astroQTpy``."
   ]
  },
  {
   "cell_type": "code",
   "execution_count": 1,
   "metadata": {},
   "outputs": [],
   "source": [
    "import numpy as np\n",
    "\n",
    "from astroqtpy.basetree import BaseTree\n",
    "from astroqtpy.quadnode import QuadNode\n",
    "from astroqtpy.quadpoint import QuadPoint"
   ]
  },
  {
   "cell_type": "markdown",
   "metadata": {},
   "source": [
    "You can write your own quadtree class by creating a new Python class that inherits the `BaseTree` superclass. At minimum, your `__init__` method must take at least four arguments: the x and y lower and upper limits. These must also be passed to the `__init__` method of the superclass.\n",
    "\n",
    "The only other requirement for your new class is to include a `evaluate_point` method, which takes a `QuadNode` object and an integer random number generator seed as arguments. Your `evaluate_point` method must return a `QuadPoint` object.\n",
    "\n",
    "This example shows the most basic implementation of `BaseTree`. Our class, which we'll call `MyQuadTree`, will simply fill a quadtree with random points containing either a one or a zero."
   ]
  },
  {
   "cell_type": "code",
   "execution_count": 2,
   "metadata": {},
   "outputs": [],
   "source": [
    "class MyQuadTree(BaseTree):\n",
    "    \"\"\"Custom quadtree.\n",
    "\n",
    "    A custom class for creating a quadtree with randomly sampled points.\n",
    "\n",
    "    Args:\n",
    "        x_min (float): Minimum x value for this quadtree.\n",
    "        x_max (float): Maximum x value for this quadtree.\n",
    "        y_min (float): Minimum y value for this quadtree.\n",
    "        y_max (float): Maximum y value for this quadtree.\n",
    "    \"\"\"\n",
    "    \n",
    "    def __init__(self, x_min: float, x_max: float, y_min: float, y_max: float) -> None:\n",
    "        super().__init__(x_min, x_max, y_min, y_max,\n",
    "                        filename_points = './tutorial_outputs/custom_points.txt',\n",
    "                        filename_nodes = './tutorial_outputs/custom_nodes.txt'\n",
    "                        )\n",
    "        \n",
    "        \n",
    "    def evaluate_point(self, node: QuadNode, rng_seed: int) -> QuadPoint:\n",
    "        \"\"\"Evaluate point.\n",
    "\n",
    "        Calculate the value of one point within a given node as either 1 or 0.\n",
    "\n",
    "        Args:\n",
    "            node (QuadNode): Quadtree node in which to evaulate point.\n",
    "            rng_seed (int): Random number generator seed.\n",
    "\n",
    "        Returns:\n",
    "            QuadPoint: A QuadPoint object.\n",
    "        \"\"\"\n",
    "        rng = np.random.default_rng(rng_seed)\n",
    "        \n",
    "        point = QuadPoint(\n",
    "            rng.uniform(node.x_min, node.x_max),\n",
    "            rng.uniform(node.y_min, node.y_max),\n",
    "            rng.choice([1, 0])\n",
    "            )\n",
    "    \n",
    "        return point"
   ]
  },
  {
   "cell_type": "markdown",
   "metadata": {},
   "source": [
    "We can now create a new instance of `MyQuadTree` and run it! We'll also make a quick plot of the quadtree."
   ]
  },
  {
   "cell_type": "code",
   "execution_count": 3,
   "metadata": {},
   "outputs": [
    {
     "name": "stdout",
     "output_type": "stream",
     "text": [
      "Attempting to load previous results...\n",
      "   292 nodes found, starting from previous checkpoint...\n",
      "DONE! :)\n"
     ]
    }
   ],
   "source": [
    "test_tree = MyQuadTree(1,2,3,4)\n",
    "test_tree.run_quadtree()"
   ]
  },
  {
   "cell_type": "code",
   "execution_count": 4,
   "metadata": {},
   "outputs": [
    {
     "data": {
      "image/png": "[encoded data removed]",
      "text/plain": [
       "<Figure size 640x480 with 1 Axes>"
      ]
     },
     "metadata": {},
     "output_type": "display_data"
    }
   ],
   "source": [
    "import matplotlib.pyplot as plt\n",
    "\n",
    "fig, ax = plt.subplots()\n",
    "test_tree.draw_tree(ax=ax); "
   ]
  },
  {
   "cell_type": "markdown",
   "metadata": {},
   "source": [
    "We can also give our custom quadtree class some extra bells and whistles. The following example demonstrates how you might include custom attributes and methods inside your quadtree class. Here, we again fill a quadtree with random points, but we'll asign each point a random integer between 0 and 100, and print a message each time we evaluate a point."
   ]
  },
  {
   "cell_type": "code",
   "execution_count": 5,
   "metadata": {},
   "outputs": [],
   "source": [
    "class MyFancyQuadTree(BaseTree):\n",
    "    \"\"\"Custom fancy quadtree.\n",
    "\n",
    "    A class for creating a quadtree with randomly sampled points.\n",
    "\n",
    "    Args:\n",
    "        x_min (float): Minimum x value for this quadtree.\n",
    "        x_max (float): Maximum x value for this quadtree.\n",
    "        y_min (float): Minimum y value for this quadtree.\n",
    "        y_max (float): Maximum y value for this quadtree.\n",
    "        split_threshold (float, optional): Threshold discrepancy in order to split nodes. Defaults to 0.2.\n",
    "        node_statistic (str, optional): Statistic to compute node values ['mean', 'std', or 'median']. Defaults to 'mean'.\n",
    "        N_points (int, optional): Maximum number of points per node. Defaults to 20.\n",
    "        min_depth (int, optional): Minimum quadtree depth. Defaults to 3.\n",
    "        max_depth (int, optional):  Maximum quadtree depth. Defaults to 6.\n",
    "        N_proc (int, optional): Number of cores for multiprocessing. Defaults to 1.\n",
    "        verbose (bool, optional): Option to print node values in real time. Defaults to False.\n",
    "        filename_points (str, optional): Name of output file to save points. Defaults to 'points.txt'.\n",
    "        filename_nodes (str, optional): Name of output file to save nodes. Defaults to 'nodes.txt'.\n",
    "        overwrite (bool, optional): Option to automatically overwrite previously saved results. Defaults to False.\n",
    "        my_arg (str, optional): Argument for this custom class. Defaults to 'foo'.\n",
    "    \"\"\"\n",
    "    \n",
    "    def __init__(self,\n",
    "                 x_min: float,\n",
    "                 x_max: float,\n",
    "                 y_min: float,\n",
    "                 y_max: float,\n",
    "                 split_threshold: float = 0.2,\n",
    "                 node_statistic: str = 'mean',\n",
    "                 N_points: int = 20,\n",
    "                 min_depth: int = 3,\n",
    "                 max_depth: int = 6,\n",
    "                 N_proc: int = 1,\n",
    "                 verbose: bool = False,\n",
    "                 filename_points: str = 'points.txt',\n",
    "                 filename_nodes: str = 'nodes.txt',\n",
    "                 overwrite: bool = False,\n",
    "                 my_arg: str = 'foo'\n",
    "                 ) -> None:\n",
    "\n",
    "        super().__init__(x_min, x_max, y_min, y_max,\n",
    "                         split_threshold, node_statistic, N_points,\n",
    "                         min_depth, max_depth, N_proc,\n",
    "                         verbose, filename_points, filename_nodes, overwrite\n",
    "                         )\n",
    "        \n",
    "        # initialize custom args\n",
    "        self.my_arg = my_arg\n",
    "        \n",
    "    \n",
    "    def custom_function(self, arg1: str, arg2: int, arg3: str = 'bar') -> None:\n",
    "        \"\"\"Custom function.\n",
    "        \n",
    "        It can do whatever you want!\n",
    "        \n",
    "        Args:\n",
    "            arg1 (str): Your first argument.\n",
    "            arg2 (int): Your second argument.\n",
    "            arg3 (str, optional): Your third argument. Defaults to 'bar'.\n",
    "        \"\"\"\n",
    "        \n",
    "        # ... do something! ...\n",
    "        \n",
    "        print(\"{:}-{:}: {:}\".format(arg1, arg2, arg3))\n",
    "        \n",
    "        return \n",
    "    \n",
    "    \n",
    "    def evaluate_point(self, node: QuadNode, rng_seed: int) -> QuadPoint:\n",
    "        \"\"\"Evaluate point.\n",
    "\n",
    "        Calculate the value of one point within a given node.\n",
    "\n",
    "        Args:\n",
    "            node (QuadNode): Quadtree node in which to evaulate point.\n",
    "            rng_seed (int, optional): Random number generator seed. Defaults to 123456.\n",
    "\n",
    "        Returns:\n",
    "            QuadPoint: A QuadPoint object.\n",
    "        \"\"\"\n",
    "        rng = np.random.default_rng(rng_seed)\n",
    "        \n",
    "        my_int = rng.integers(0, 100)\n",
    "        \n",
    "        # call custom function\n",
    "        self.custom_function(self.my_arg, my_int)\n",
    "        \n",
    "        point = QuadPoint(\n",
    "            rng.uniform(node.x_min, node.x_max),\n",
    "            rng.uniform(node.y_min, node.y_max),\n",
    "            my_int\n",
    "            )\n",
    "    \n",
    "        return point"
   ]
  },
  {
   "cell_type": "markdown",
   "metadata": {},
   "source": [
    "Create a new instance and run the quadtree."
   ]
  },
  {
   "cell_type": "code",
   "execution_count": 6,
   "metadata": {},
   "outputs": [
    {
     "name": "stdout",
     "output_type": "stream",
     "text": [
      "Attempting to load previous results...\n",
      "   46 nodes found, starting from previous checkpoint...\n",
      "DONE! :)\n"
     ]
    }
   ],
   "source": [
    "test_tree = MyFancyQuadTree(1,2,3,4, max_depth=4, split_threshold=50, N_points=1,\n",
    "                            filename_points='./tutorial_outputs/custom_fancy_points.txt',\n",
    "                            filename_nodes='./tutorial_outputs/custom_fancy_nodes.txt')\n",
    "test_tree.run_quadtree()"
   ]
  },
  {
   "cell_type": "markdown",
   "metadata": {},
   "source": [
    "And make a quick plot just for fun."
   ]
  },
  {
   "cell_type": "code",
   "execution_count": 7,
   "metadata": {},
   "outputs": [
    {
     "data": {
      "image/png": "[encoded data removed]",
      "text/plain": [
       "<Figure size 640x480 with 1 Axes>"
      ]
     },
     "metadata": {},
     "output_type": "display_data"
    }
   ],
   "source": [
    "fig, ax = plt.subplots()\n",
    "test_tree.draw_tree(ax=ax); "
   ]
  }
 ],
 "metadata": {
  "kernelspec": {
   "display_name": "qtpy-env",
   "language": "python",
   "name": "python3"
  },
  "language_info": {
   "codemirror_mode": {
    "name": "ipython",
    "version": 3
   },
   "file_extension": ".py",
   "mimetype": "text/x-python",
   "name": "python",
   "nbconvert_exporter": "python",
   "pygments_lexer": "ipython3",
   "version": "3.11.4"
  },
  "orig_nbformat": 4
 },
 "nbformat": 4,
 "nbformat_minor": 2
}
